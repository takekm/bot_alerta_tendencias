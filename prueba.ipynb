{
 "cells": [
  {
   "cell_type": "code",
   "execution_count": 18,
   "id": "0dc0adbb",
   "metadata": {},
   "outputs": [],
   "source": [
    "import yfinance as yf\n",
    "import pandas as pd\n",
    "import smtplib\n",
    "from email.mime.multipart import MIMEMultipart\n",
    "from email.mime.text import MIMEText\n",
    "import datetime\n",
    "from datetime import timedelta"
   ]
  },
  {
   "cell_type": "code",
   "execution_count": 19,
   "id": "588a52f0",
   "metadata": {},
   "outputs": [],
   "source": [
    "#Declaramos fechas\n",
    "fecha_hoy = datetime.date.today()\n",
    "fecha_hoy_ly = fecha_hoy - datetime.timedelta(days=365)\n",
    "#Pasamos a string\n",
    "fecha_hoy_str=fecha_hoy.strftime(\"%Y-%m-%d\")\n",
    "fecha_hoy_ly_str=fecha_hoy_ly.strftime(\"%Y-%m-%d\")\n",
    "\n",
    "#Datos de autenticación de mailing\n",
    "smtp_server = \"smtp.gmail.com\"\n",
    "smtp_port = 587\n",
    "remitente = \"tkamada07@gmail.com\"\n",
    "password = \"awxt imrp xuvj aosh\"  \n",
    "destinatario = \"takeshikamada@hotmail.com\"\n",
    "mensaje = MIMEMultipart()\n",
    "mensaje[\"From\"] = \"BOT Python - Take\"\n",
    "mensaje[\"To\"] = destinatario\n",
    "mensaje[\"Subject\"] = \"Correo de prueba en Python\""
   ]
  },
  {
   "cell_type": "code",
   "execution_count": 20,
   "id": "36733e18",
   "metadata": {},
   "outputs": [
    {
     "name": "stderr",
     "output_type": "stream",
     "text": [
      "C:\\Users\\tk\\AppData\\Local\\Temp\\ipykernel_32864\\1570433468.py:2: FutureWarning: YF.download() has changed argument auto_adjust default to True\n",
      "  data = yf.download(\"MSFT\", start=fecha_hoy_ly_str, end=fecha_hoy_str).reset_index()\n",
      "[*********************100%***********************]  1 of 1 completed"
     ]
    },
    {
     "name": "stderr",
     "output_type": "stream",
     "text": [
      "\n"
     ]
    }
   ],
   "source": [
    "# Descargar datos de Apple\n",
    "data = yf.download(\"MSFT\", start=fecha_hoy_ly_str, end=fecha_hoy_str).reset_index()"
   ]
  },
  {
   "cell_type": "code",
   "execution_count": 21,
   "id": "bc799aec",
   "metadata": {},
   "outputs": [],
   "source": [
    "data['Ticker']=data.columns.get_level_values(1)[1]"
   ]
  },
  {
   "cell_type": "code",
   "execution_count": 22,
   "id": "aa943449",
   "metadata": {},
   "outputs": [],
   "source": [
    "# después de tu download + reset_index\n",
    "if isinstance(data.columns, pd.MultiIndex):\n",
    "    data.columns = data.columns.get_level_values(0)"
   ]
  },
  {
   "cell_type": "code",
   "execution_count": 23,
   "id": "c02bde54",
   "metadata": {},
   "outputs": [],
   "source": [
    "df_precios=data.copy()"
   ]
  },
  {
   "cell_type": "code",
   "execution_count": 24,
   "id": "f7a182cf",
   "metadata": {},
   "outputs": [],
   "source": [
    "# Aseguramos que la columna Date sea de tipo fecha\n",
    "df_precios[\"Date\"] = pd.to_datetime(df_precios[\"Date\"])\n",
    "df_precios = df_precios.sort_values(\"Date\")  # ordenar por fecha"
   ]
  },
  {
   "cell_type": "code",
   "execution_count": 25,
   "id": "5c1057d3",
   "metadata": {},
   "outputs": [],
   "source": [
    "# Calcular medias móviles\n",
    "df_precios[\"SMA50\"] = df_precios[\"Close\"].rolling(50).mean()\n",
    "df_precios[\"SMA5\"] = df_precios[\"Close\"].rolling(5).mean()"
   ]
  },
  {
   "cell_type": "markdown",
   "id": "45eacd30",
   "metadata": {},
   "source": [
    "# Medias Móviles Simples"
   ]
  },
  {
   "cell_type": "markdown",
   "id": "a4e779b8",
   "metadata": {},
   "source": [
    "Golden Cross y Death Cross"
   ]
  },
  {
   "cell_type": "code",
   "execution_count": 26,
   "id": "feb3d910",
   "metadata": {},
   "outputs": [],
   "source": [
    "# Regla simple: SMA50 vs SMA200\n",
    "df_precios[\"SMA Cross\"] = df_precios.apply(\n",
    "    lambda row: \"Alcista\" if row[\"SMA5\"] > row[\"SMA50\"] else \"Bajista\",\n",
    "    axis=1\n",
    ")"
   ]
  },
  {
   "cell_type": "code",
   "execution_count": 27,
   "id": "5558794d",
   "metadata": {},
   "outputs": [
    {
     "data": {
      "text/html": [
       "<div>\n",
       "<style scoped>\n",
       "    .dataframe tbody tr th:only-of-type {\n",
       "        vertical-align: middle;\n",
       "    }\n",
       "\n",
       "    .dataframe tbody tr th {\n",
       "        vertical-align: top;\n",
       "    }\n",
       "\n",
       "    .dataframe thead th {\n",
       "        text-align: right;\n",
       "    }\n",
       "</style>\n",
       "<table border=\"1\" class=\"dataframe\">\n",
       "  <thead>\n",
       "    <tr style=\"text-align: right;\">\n",
       "      <th>Price</th>\n",
       "      <th>Date</th>\n",
       "      <th>Close</th>\n",
       "      <th>High</th>\n",
       "      <th>Low</th>\n",
       "      <th>Open</th>\n",
       "      <th>Volume</th>\n",
       "      <th>Ticker</th>\n",
       "      <th>SMA50</th>\n",
       "      <th>SMA5</th>\n",
       "      <th>SMA Cross</th>\n",
       "    </tr>\n",
       "  </thead>\n",
       "  <tbody>\n",
       "    <tr>\n",
       "      <th>247</th>\n",
       "      <td>2025-09-11</td>\n",
       "      <td>501.010010</td>\n",
       "      <td>503.170013</td>\n",
       "      <td>497.880005</td>\n",
       "      <td>502.250000</td>\n",
       "      <td>18881600</td>\n",
       "      <td>MSFT</td>\n",
       "      <td>509.427056</td>\n",
       "      <td>498.598004</td>\n",
       "      <td>Bajista</td>\n",
       "    </tr>\n",
       "    <tr>\n",
       "      <th>248</th>\n",
       "      <td>2025-09-12</td>\n",
       "      <td>509.899994</td>\n",
       "      <td>512.549988</td>\n",
       "      <td>503.850006</td>\n",
       "      <td>506.649994</td>\n",
       "      <td>23612600</td>\n",
       "      <td>MSFT</td>\n",
       "      <td>509.819375</td>\n",
       "      <td>501.578003</td>\n",
       "      <td>Bajista</td>\n",
       "    </tr>\n",
       "  </tbody>\n",
       "</table>\n",
       "</div>"
      ],
      "text/plain": [
       "Price       Date       Close        High         Low        Open    Volume  \\\n",
       "247   2025-09-11  501.010010  503.170013  497.880005  502.250000  18881600   \n",
       "248   2025-09-12  509.899994  512.549988  503.850006  506.649994  23612600   \n",
       "\n",
       "Price Ticker       SMA50        SMA5 SMA Cross  \n",
       "247     MSFT  509.427056  498.598004   Bajista  \n",
       "248     MSFT  509.819375  501.578003   Bajista  "
      ]
     },
     "execution_count": 27,
     "metadata": {},
     "output_type": "execute_result"
    }
   ],
   "source": [
    "df_precios.tail(2)"
   ]
  },
  {
   "cell_type": "code",
   "execution_count": 28,
   "id": "8d3aafc0",
   "metadata": {},
   "outputs": [
    {
     "name": "stdout",
     "output_type": "stream",
     "text": [
      "Se mantiene bajista\n"
     ]
    }
   ],
   "source": [
    "if (df_precios[\"SMA Cross\"].iloc[-2]==\"Alcista\") & (df_precios[\"SMA Cross\"].iloc[-1]==\"Bajista\"):\n",
    "    cuerpo=\"Inicio de Tendencia Bajista: VENDER\"\n",
    "elif (df_precios[\"SMA Cross\"].iloc[-2]==\"Bajista\") & (df_precios[\"SMA Cross\"].iloc[-1]==\"Alcista\"):\n",
    "    cuerpo=\"Inicio de Tendencia Alcista: COMPRAR\"\n",
    "elif (df_precios[\"SMA Cross\"].iloc[-2]==\"Bajista\") & (df_precios[\"SMA Cross\"].iloc[-1]==\"Bajista\"):\n",
    "    cuerpo=\"Se mantiene bajista\"\n",
    "elif (df_precios[\"SMA Cross\"].iloc[-2]==\"Bajista\") & (df_precios[\"SMA Cross\"].iloc[-1]==\"Bajista\"):\n",
    "    cuerpo=\"Se mantiene alcista\"\n",
    "print(cuerpo)"
   ]
  },
  {
   "cell_type": "code",
   "execution_count": 29,
   "id": "d3b3a744",
   "metadata": {},
   "outputs": [],
   "source": [
    "# Cuerpo del correo\n",
    "mensaje.attach(MIMEText(cuerpo, \"plain\"))"
   ]
  },
  {
   "cell_type": "code",
   "execution_count": 30,
   "id": "6cfa588a",
   "metadata": {},
   "outputs": [
    {
     "name": "stdout",
     "output_type": "stream",
     "text": [
      "Correo enviado exitosamente takeshikamada@hotmail.com  ✅\n"
     ]
    }
   ],
   "source": [
    "try:\n",
    "    # Conectar al servidor SMTP\n",
    "    servidor = smtplib.SMTP(smtp_server, smtp_port)\n",
    "    servidor.starttls()  # Seguridad TLS\n",
    "    servidor.login(remitente, password)\n",
    "    servidor.send_message(mensaje)\n",
    "    servidor.quit()\n",
    "    print(f\"Correo enviado exitosamente {destinatario}  ✅\")\n",
    "except Exception as e:\n",
    "    print(f\"Error al enviar el correo: {e}\")"
   ]
  }
 ],
 "metadata": {
  "kernelspec": {
   "display_name": "base",
   "language": "python",
   "name": "python3"
  },
  "language_info": {
   "codemirror_mode": {
    "name": "ipython",
    "version": 3
   },
   "file_extension": ".py",
   "mimetype": "text/x-python",
   "name": "python",
   "nbconvert_exporter": "python",
   "pygments_lexer": "ipython3",
   "version": "3.9.13"
  }
 },
 "nbformat": 4,
 "nbformat_minor": 5
}
